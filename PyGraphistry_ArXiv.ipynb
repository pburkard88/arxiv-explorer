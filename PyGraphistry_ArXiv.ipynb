{
 "cells": [
  {
   "cell_type": "code",
   "execution_count": 1,
   "metadata": {
    "collapsed": false
   },
   "outputs": [
    {
     "name": "stdout",
     "output_type": "stream",
     "text": [
      "A new version of PyGraphistry is available (installed=0.9.43 latest=0.9.49).\n"
     ]
    }
   ],
   "source": [
    "# Imports\n",
    "import graphistry\n",
    "import pandas as pd\n",
    "import sqlite3\n",
    "from sqlalchemy import create_engine\n",
    "graphistry.register(key='273c43ef4595ac5b96318ff06461f58caaadb67ff4a3f51b48dc51ff3427582d')"
   ]
  },
  {
   "cell_type": "code",
   "execution_count": 2,
   "metadata": {
    "collapsed": true
   },
   "outputs": [],
   "source": [
    "# Static\n",
    "DB_URL = 'arxiv_raw.sqlite'"
   ]
  },
  {
   "cell_type": "code",
   "execution_count": 3,
   "metadata": {
    "collapsed": false
   },
   "outputs": [],
   "source": [
    "# Connect to the database\n",
    "# conn = sqlite3.connect(DB_URL)\n",
    "conn = create_engine('sqlite:///{}'.format(DB_URL))"
   ]
  },
  {
   "cell_type": "code",
   "execution_count": 4,
   "metadata": {
    "collapsed": false
   },
   "outputs": [],
   "source": [
    "# Retrieve all the paper metadata\n",
    "arxiv_metadata = pd.read_sql_table('Papers', conn)"
   ]
  },
  {
   "cell_type": "code",
   "execution_count": 5,
   "metadata": {
    "collapsed": false
   },
   "outputs": [],
   "source": [
    "# Retrieve citations data\n",
    "# citations = pd.read_csv('remote_data/1/citations/citations.txt', names = ['source', 'target', 'label'])\n",
    "citations = pd.read_sql_table('Citations', conn)\n",
    "citations = citations.rename(columns={'paper_id': 'source', 'reference_id': 'target', 'weight': 'label'})"
   ]
  },
  {
   "cell_type": "code",
   "execution_count": 6,
   "metadata": {
    "collapsed": true
   },
   "outputs": [],
   "source": [
    "# Retrieve authors data\n",
    "authors = pd.read_sql_table('Authors', conn)"
   ]
  },
  {
   "cell_type": "code",
   "execution_count": 7,
   "metadata": {
    "collapsed": false
   },
   "outputs": [],
   "source": [
    "# Dedupe Citations\n",
    "citations = citations.drop_duplicates(subset=['source', 'target'])"
   ]
  },
  {
   "cell_type": "code",
   "execution_count": 8,
   "metadata": {
    "collapsed": true
   },
   "outputs": [],
   "source": [
    "# Retrieve Publications data\n",
    "publications = pd.read_sql_table('Publications', conn)"
   ]
  },
  {
   "cell_type": "code",
   "execution_count": 9,
   "metadata": {
    "collapsed": false
   },
   "outputs": [],
   "source": [
    "# Clean Citations IDs\n",
    "citations['target'] = citations['target'].str.strip('.')\n",
    "citations['source'] = citations['source'].astype(str).str.strip('.')"
   ]
  },
  {
   "cell_type": "code",
   "execution_count": 10,
   "metadata": {
    "collapsed": false
   },
   "outputs": [],
   "source": [
    "# Unique subjects\n",
    "subjects = arxiv_metadata.primary_subject.unique()\n",
    "subject_colors = dict(zip(subjects, range(0, len(subjects))))\n",
    "arxiv_metadata['color'] = arxiv_metadata.primary_subject.map(lambda x: subject_colors[x])"
   ]
  },
  {
   "cell_type": "code",
   "execution_count": 11,
   "metadata": {
    "collapsed": false
   },
   "outputs": [],
   "source": [
    "# All edges with metadata\n",
    "metadata_merge = citations.merge(arxiv_metadata, \n",
    "                                 left_on='source', \n",
    "                                 right_on='id').merge(arxiv_metadata,  \n",
    "                                                      left_on='target', \n",
    "                                                      right_on='id', \n",
    "                                                      suffixes=('_from', '_to'))"
   ]
  },
  {
   "cell_type": "code",
   "execution_count": 12,
   "metadata": {
    "collapsed": false
   },
   "outputs": [
    {
     "name": "stderr",
     "output_type": "stream",
     "text": [
      "WARNING:  \"node\" is unbound, automatically binding it to \"__nodeid__\".\n"
     ]
    },
    {
     "name": "stdout",
     "output_type": "stream",
     "text": [
      "Calculating PageRank...\n",
      "Calculating Communities...\n",
      "Calculating Degrees...\n"
     ]
    }
   ],
   "source": [
    "# Set up igraph for easy metadata etc\n",
    "# ig = plotter.pandas2igraph(citations)\n",
    "# Set up the plotter\n",
    "plotter = graphistry.bind(source=\"source\", destination=\"target\")\n",
    "print('Creating iGraph...')\n",
    "ig = plotter.pandas2igraph(metadata_merge)\n",
    "\n",
    "# Add the Arxiv Metadata\n",
    "vertex_metadata = pd.DataFrame(ig.vs['__nodeid__'], columns=['id']).merge(arxiv_metadata, how='left', on='id')\n",
    "ig.vs['primary_subject'] = vertex_metadata['primary_subject']\n",
    "ig.vs['color'] = vertex_metadata['color']\n",
    "ig.vs['title'] = vertex_metadata['title']\n",
    "ig.vs['year'] = vertex_metadata['year']\n",
    "ig.vs['month'] = vertex_metadata['month']\n",
    "ig.vs['category'] = vertex_metadata['category']\n",
    "print('Calculating PageRank...')\n",
    "ig.vs['pagerank'] = ig.pagerank()\n",
    "print('Calculating Communities...')\n",
    "ig.vs['community'] = ig.community_infomap().membership\n",
    "print('Calculating Degrees...')\n",
    "ig.vs['in_degree'] = ig.indegree()\n",
    "\n",
    "# plotter.bind(point_color='community', point_size='pagerank').plot(ig)"
   ]
  },
  {
   "cell_type": "code",
   "execution_count": 13,
   "metadata": {
    "collapsed": false
   },
   "outputs": [
    {
     "name": "stdout",
     "output_type": "stream",
     "text": [
      "Plotting...\n"
     ]
    },
    {
     "name": "stderr",
     "output_type": "stream",
     "text": [
      "WARNING:  \"node\" is unbound, automatically binding it to \"__nodeid__\".\n"
     ]
    },
    {
     "name": "stdout",
     "output_type": "stream",
     "text": [
      "Uploading 5869 kB. This may take a while...\n"
     ]
    },
    {
     "data": {
      "text/html": [
       "\n",
       "            <iframe id=\"6b6c9045-4093-4a50-af27-f0b032c39815\" src=\"https://labs.graphistry.com/graph/graph.html?dataset=PyGraphistry/NHZRN7IPDJ&type=vgraph&viztoken=68b300f18fbbf315c41019997cb8294ce2902b98&usertag=7a202f8b-pygraphistry-0.9.43&splashAfter=1504763928&info=true\"\n",
       "                    allowfullscreen=\"true\" webkitallowfullscreen=\"true\" mozallowfullscreen=\"true\"\n",
       "                    oallowfullscreen=\"true\" msallowfullscreen=\"true\"\n",
       "                    style=\"width:100%; height:500px; border: 1px solid #DDD\">\n",
       "            </iframe>\n",
       "        \n",
       "            <script>\n",
       "                $(\"#6b6c9045-4093-4a50-af27-f0b032c39815\").bind('mousewheel', function(e) {\n",
       "                e.preventDefault();\n",
       "                });\n",
       "            </script>\n",
       "        "
      ],
      "text/plain": [
       "<IPython.core.display.HTML object>"
      ]
     },
     "execution_count": 13,
     "metadata": {},
     "output_type": "execute_result"
    }
   ],
   "source": [
    "# Perform the plotting\n",
    "\n",
    "# Set up the plotter\n",
    "plotter = graphistry.bind(source=\"source\", destination=\"target\")\n",
    "\n",
    "# citations[\"label\"] = citations.value.map(lambda v: \"#Meetings: %d\" % v)\n",
    "plotter = plotter.bind(edge_weight=\"label\")\n",
    "# plotter.plot(citations)\n",
    "plotter = plotter.bind(point_size='pagerank', point_color='color', point_title=\"title\")\n",
    "print('Plotting...')\n",
    "plotter.plot(ig)"
   ]
  },
  {
   "cell_type": "code",
   "execution_count": null,
   "metadata": {
    "collapsed": true
   },
   "outputs": [],
   "source": []
  }
 ],
 "metadata": {
  "anaconda-cloud": {},
  "kernelspec": {
   "display_name": "Python [conda root]",
   "language": "python",
   "name": "conda-root-py"
  },
  "language_info": {
   "codemirror_mode": {
    "name": "ipython",
    "version": 3
   },
   "file_extension": ".py",
   "mimetype": "text/x-python",
   "name": "python",
   "nbconvert_exporter": "python",
   "pygments_lexer": "ipython3",
   "version": "3.5.2"
  }
 },
 "nbformat": 4,
 "nbformat_minor": 2
}
